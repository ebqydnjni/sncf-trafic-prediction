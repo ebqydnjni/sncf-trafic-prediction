{
 "cells": [
  {
   "cell_type": "code",
   "execution_count": 1,
   "id": "2fda4d71-0b34-4c59-a041-e40880bba25f",
   "metadata": {},
   "outputs": [],
   "source": [
    "from pyspark.sql import SparkSession\n",
    "\n",
    "spark = SparkSession.builder \\\n",
    "    .appName(\"Trafic SNCF\") \\\n",
    "    .getOrCreate()\n"
   ]
  },
  {
   "cell_type": "code",
   "execution_count": 2,
   "id": "11ea71d5-337a-42f8-a663-1eff012985cd",
   "metadata": {},
   "outputs": [
    {
     "name": "stdout",
     "output_type": "stream",
     "text": [
      "+--------------------+----------+--------------------+----------+----------+\n",
      "|             trip_id|start_date|             stop_id|   arrival| departure|\n",
      "+--------------------+----------+--------------------+----------+----------+\n",
      "|OCESN3604F4279771...|  20250522|StopPoint:OCEINTE...|      null|1747878900|\n",
      "|OCESN3604F4279771...|  20250522|StopPoint:OCEINTE...|1747882500|1747882680|\n",
      "|OCESN3604F4279771...|  20250522|StopPoint:OCEINTE...|1747884540|1747884600|\n",
      "|OCESN3604F4279771...|  20250522|StopPoint:OCEINTE...|1747887060|1747887180|\n",
      "|OCESN3604F4279771...|  20250522|StopPoint:OCEINTE...|1747888020|1747888140|\n",
      "+--------------------+----------+--------------------+----------+----------+\n",
      "only showing top 5 rows\n",
      "\n",
      "root\n",
      " |-- trip_id: string (nullable = true)\n",
      " |-- start_date: string (nullable = true)\n",
      " |-- stop_id: string (nullable = true)\n",
      " |-- arrival: long (nullable = true)\n",
      " |-- departure: long (nullable = true)\n",
      "\n"
     ]
    }
   ],
   "source": [
    "chemin_delta = \"/home/jovyan/work/data/delta_sncf\"\n",
    "\n",
    "df_trafic = spark.read.format(\"delta\").load(chemin_delta)\n",
    "\n",
    "df_trafic.show(5)\n",
    "df_trafic.printSchema()\n"
   ]
  },
  {
   "cell_type": "code",
   "execution_count": 4,
   "id": "e6ddac0d-bc37-43d3-b7ec-26218302ac9a",
   "metadata": {},
   "outputs": [],
   "source": [
    "# Charger les noms des arrêts depuis le fichier CSV\n",
    "chemin_stops = \"/home/jovyan/work/data/Exemple_stops_csv.csv\"\n",
    "df_stops = spark.read.option(\"header\", True).csv(chemin_stops)\n",
    "\n",
    "# Jointure avec les noms des arrêts\n",
    "df_trafic = df_trafic.join(df_stops, on=\"stop_id\", how=\"left\")\n"
   ]
  },
  {
   "cell_type": "code",
   "execution_count": 5,
   "id": "f99d9627-b111-45af-ae2d-bf2aaabf2aff",
   "metadata": {},
   "outputs": [
    {
     "name": "stdout",
     "output_type": "stream",
     "text": [
      "+---------+-------------------+-------------------+\n",
      "|stop_name|heure_arrivee      |heure_depart       |\n",
      "+---------+-------------------+-------------------+\n",
      "|null     |null               |2025-05-22 01:55:00|\n",
      "|null     |2025-05-22 02:55:00|2025-05-22 02:58:00|\n",
      "|null     |2025-05-22 03:29:00|2025-05-22 03:30:00|\n",
      "|null     |2025-05-22 04:11:00|2025-05-22 04:13:00|\n",
      "|null     |2025-05-22 04:27:00|2025-05-22 04:29:00|\n",
      "+---------+-------------------+-------------------+\n",
      "only showing top 5 rows\n",
      "\n"
     ]
    }
   ],
   "source": [
    "from pyspark.sql.functions import col, from_unixtime\n",
    "\n",
    "df_trafic = df_trafic.withColumn(\"heure_arrivee\", from_unixtime(col(\"arrival\"))) \\\n",
    "                     .withColumn(\"heure_depart\", from_unixtime(col(\"departure\")))\n",
    "\n",
    "df_trafic.select(\"stop_name\", \"heure_arrivee\", \"heure_depart\").show(5, truncate=False)\n"
   ]
  },
  {
   "cell_type": "code",
   "execution_count": 7,
   "id": "0fabf66c-0026-4b7e-b4d3-5918a05aa27f",
   "metadata": {},
   "outputs": [
    {
     "name": "stdout",
     "output_type": "stream",
     "text": [
      "+-------------------------+------------------+\n",
      "|stop_id                  |stop_name         |\n",
      "+-------------------------+------------------+\n",
      "|StopPoint:OCEICE-80110684|Paris Gare de Lyon|\n",
      "|StopPoint:OCEICE-80140087|Melun             |\n",
      "|StopPoint:OCEICE-80140210|Fontainebleau     |\n",
      "|StopPoint:OCEICE-80142281|Montereau         |\n",
      "|StopPoint:OCEICE-80142778|Sens              |\n",
      "+-------------------------+------------------+\n",
      "only showing top 5 rows\n",
      "\n",
      "root\n",
      " |-- stop_id: string (nullable = true)\n",
      " |-- stop_name: string (nullable = true)\n",
      "\n"
     ]
    }
   ],
   "source": [
    "chemin_stops = \"/home/jovyan/work/data/Exemple_stops_csv.csv\"\n",
    "df_stops = spark.read.option(\"header\", True).csv(chemin_stops)\n",
    "\n",
    "df_stops.show(5, truncate=False)\n",
    "df_stops.printSchema()\n"
   ]
  },
  {
   "cell_type": "code",
   "execution_count": 9,
   "id": "bbc1ccd4-e3b6-422c-9b5c-82bb977485a6",
   "metadata": {},
   "outputs": [
    {
     "name": "stdout",
     "output_type": "stream",
     "text": [
      "+--------------------------------+---------+----------+----------+\n",
      "|stop_id                         |stop_name|arrival   |departure |\n",
      "+--------------------------------+---------+----------+----------+\n",
      "|StopPoint:OCEINTERCITES-87594002|null     |null      |1747878900|\n",
      "|StopPoint:OCEINTERCITES-87592006|null     |1747882500|1747882680|\n",
      "|StopPoint:OCEINTERCITES-87592378|null     |1747884540|1747884600|\n",
      "|StopPoint:OCEINTERCITES-87597005|null     |1747887060|1747887180|\n",
      "|StopPoint:OCEINTERCITES-87597062|null     |1747888020|1747888140|\n",
      "|StopPoint:OCEINTERCITES-87576009|null     |1747889340|1747889460|\n",
      "|StopPoint:OCEINTERCITES-87547000|null     |1747895460|null      |\n",
      "|StopPoint:OCETrain TER-87212027 |null     |null      |1747881420|\n",
      "|StopPoint:OCETrain TER-87212225 |null     |1747882740|1747882800|\n",
      "|StopPoint:OCETrain TER-87175042 |null     |1747890000|1747890120|\n",
      "+--------------------------------+---------+----------+----------+\n",
      "only showing top 10 rows\n",
      "\n"
     ]
    }
   ],
   "source": [
    "df_joint.select(\n",
    "    df_joint[\"stop_id\"],\n",
    "    df_stops[\"stop_name\"],  # On précise qu'on prend celui du CSV\n",
    "    df_joint[\"arrival\"],\n",
    "    df_joint[\"departure\"]\n",
    ").show(10, truncate=False)\n"
   ]
  },
  {
   "cell_type": "code",
   "execution_count": 10,
   "id": "b65c4ed9-e325-4dbf-8f6b-d9d88b1069fe",
   "metadata": {},
   "outputs": [
    {
     "name": "stdout",
     "output_type": "stream",
     "text": [
      "+--------------------------------+---------+----------+----------+\n",
      "|stop_id                         |nom_arret|arrival   |departure |\n",
      "+--------------------------------+---------+----------+----------+\n",
      "|StopPoint:OCEINTERCITES-87594002|null     |null      |1747878900|\n",
      "|StopPoint:OCEINTERCITES-87592006|null     |1747882500|1747882680|\n",
      "|StopPoint:OCEINTERCITES-87592378|null     |1747884540|1747884600|\n",
      "|StopPoint:OCEINTERCITES-87597005|null     |1747887060|1747887180|\n",
      "|StopPoint:OCEINTERCITES-87597062|null     |1747888020|1747888140|\n",
      "|StopPoint:OCEINTERCITES-87576009|null     |1747889340|1747889460|\n",
      "|StopPoint:OCEINTERCITES-87547000|null     |1747895460|null      |\n",
      "|StopPoint:OCETrain TER-87212027 |null     |null      |1747881420|\n",
      "|StopPoint:OCETrain TER-87212225 |null     |1747882740|1747882800|\n",
      "|StopPoint:OCETrain TER-87175042 |null     |1747890000|1747890120|\n",
      "+--------------------------------+---------+----------+----------+\n",
      "only showing top 10 rows\n",
      "\n"
     ]
    }
   ],
   "source": [
    "df_stops = df_stops.withColumnRenamed(\"stop_name\", \"nom_arret\")\n",
    "df_joint = df_trafic.join(df_stops, on=\"stop_id\", how=\"left\")\n",
    "\n",
    "df_joint.select(\"stop_id\", \"nom_arret\", \"arrival\", \"departure\").show(10, truncate=False)\n"
   ]
  },
  {
   "cell_type": "code",
   "execution_count": 12,
   "id": "43fef816-acab-4dd9-b024-93813922d8d1",
   "metadata": {},
   "outputs": [],
   "source": [
    "import os\n",
    "os.environ[\"KAGGLE_CONFIG_DIR\"] = \"/home/jovyan/.kaggle\"\n"
   ]
  },
  {
   "cell_type": "markdown",
   "id": "28f9e976-da8e-4c31-ba7e-c5a2f494772f",
   "metadata": {},
   "source": [
    "# Charger les données des gares"
   ]
  },
  {
   "cell_type": "code",
   "execution_count": 14,
   "id": "a5bfdbac-1409-4890-a5bb-fb94aee03a3c",
   "metadata": {},
   "outputs": [],
   "source": [
    "import pandas as pd\n",
    "df_gares = pd.read_csv(\"/home/jovyan/work/data/gares_kaggle.csv\")\n",
    "df_gares[\"Code UIC\"] = df_gares[\"Code UIC\"].astype(\"Int64\")\n",
    "df_gares[\"Code UIC\"] = df_gares[\"Code UIC\"].astype(str)\n",
    "df_gares[\"Code UIC\"] = df_gares[\"Code UIC\"].str.zfill(8)\n",
    "df_gares[\"stop_id\"] = \"StopPoint:OCE\" + df_gares[\"Code UIC\"]\n"
   ]
  },
  {
   "cell_type": "code",
   "execution_count": null,
   "id": "463893a6-434d-4cf3-979c-6817f310ba70",
   "metadata": {},
   "outputs": [],
   "source": [
    "# df_gares_spark = spark.createDataFrame(df_gares[[\"stop_id\", \"Libellé Gare\"]].rename(columns={\"Libellé Gare\": \"stop_name\"}))\n"
   ]
  },
  {
   "cell_type": "code",
   "execution_count": 15,
   "id": "7750d638-5ad9-4cee-a375-5bc2711f3ef7",
   "metadata": {},
   "outputs": [],
   "source": [
    "df_gares_spark = spark.createDataFrame(df_gares[[\"stop_id\", \"Libellé Gare\"]].rename(columns={\"Libellé Gare\": \"stop_name\"}))\n"
   ]
  },
  {
   "cell_type": "code",
   "execution_count": 16,
   "id": "d4a8f21a-4cfa-4dad-931e-522f5d0a927f",
   "metadata": {},
   "outputs": [],
   "source": [
    "# Joindre avec df_trafic\n",
    "df_trafic = df_trafic.drop(\"stop_name\") if \"stop_name\" in df_trafic.columns else df_trafic\n",
    "df_trafic = df_trafic.join(df_gares_spark, on=\"stop_id\", how=\"left\")\n"
   ]
  },
  {
   "cell_type": "code",
   "execution_count": 18,
   "id": "d8a9e417-dcab-49e4-be1b-ba0e51e13ea1",
   "metadata": {},
   "outputs": [
    {
     "name": "stdout",
     "output_type": "stream",
     "text": [
      "+--------------------------------+---------+----------+----------+\n",
      "|stop_id                         |stop_name|arrival   |departure |\n",
      "+--------------------------------+---------+----------+----------+\n",
      "|StopPoint:OCEINTERCITES-87597005|null     |1747887060|1747887180|\n",
      "|StopPoint:OCETrain TER-87673400 |null     |1747883640|1747883700|\n",
      "|StopPoint:OCETrain TER-87212027 |null     |null      |1747881420|\n",
      "|StopPoint:OCETrain TER-87113001 |null     |1747900380|null      |\n",
      "|StopPoint:OCETrain TER-87175042 |null     |1747890000|1747890120|\n",
      "|StopPoint:OCETrain TER-87673277 |null     |1747885380|1747885440|\n",
      "|StopPoint:OCETrain TER-87581009 |null     |1747892280|null      |\n",
      "|StopPoint:OCETrain TER-87171553 |null     |1747895220|1747895400|\n",
      "|StopPoint:OCETrain TER-87673103 |null     |1747888080|1747888140|\n",
      "|StopPoint:OCETrain TER-87673459 |null     |1747883280|1747883340|\n",
      "|StopPoint:OCETrain TER-87582536 |null     |1747889220|1747889280|\n",
      "|StopPoint:OCETrain TER-87212225 |null     |1747882740|1747882800|\n",
      "|StopPoint:OCETrain TER-87677104 |null     |1747882440|1747882500|\n",
      "|StopPoint:OCETrain TER-87174003 |null     |1747894020|1747894320|\n",
      "|StopPoint:OCETrain TER-87582551 |null     |1747888740|1747888800|\n",
      "|StopPoint:OCETrain TER-87171512 |null     |1747896180|1747896300|\n",
      "|StopPoint:OCEINTERCITES-87576009|null     |1747889340|1747889460|\n",
      "|StopPoint:OCETrain TER-87174276 |null     |1747892820|1747893000|\n",
      "|StopPoint:OCEINTERCITES-87547000|null     |1747895460|null      |\n",
      "|StopPoint:OCETrain TER-87116582 |null     |1747897020|1747897140|\n",
      "|StopPoint:OCETrain TER-87444000 |null     |null      |1747882440|\n",
      "|StopPoint:OCETrain TER-87582478 |null     |1747890600|1747890660|\n",
      "|StopPoint:OCETrain TER-87677120 |null     |1747882920|1747882980|\n",
      "|StopPoint:OCEINTERCITES-87594002|null     |null      |1747878900|\n",
      "|StopPoint:OCETrain TER-87673202 |null     |1747886520|1747887000|\n",
      "|StopPoint:OCEINTERCITES-87592378|null     |1747884540|1747884600|\n",
      "|StopPoint:OCEINTERCITES-87597062|null     |1747888020|1747888140|\n",
      "|StopPoint:OCEINTERCITES-87592006|null     |1747882500|1747882680|\n",
      "|StopPoint:OCETrain TER-87677005 |null     |null      |1747882260|\n",
      "|StopPoint:OCETrain TER-87673004 |null     |1747884420|1747884540|\n",
      "+--------------------------------+---------+----------+----------+\n",
      "only showing top 30 rows\n",
      "\n"
     ]
    }
   ],
   "source": [
    "#Vérifier le résultat\n",
    "df_trafic.select(\"stop_id\", \"stop_name\", \"arrival\", \"departure\").show(30, truncate=False)\n"
   ]
  },
  {
   "cell_type": "code",
   "execution_count": 20,
   "id": "9dbfb8ae-aa1f-4a2d-b146-d4b5fd52ed65",
   "metadata": {},
   "outputs": [
    {
     "name": "stdout",
     "output_type": "stream",
     "text": [
      "+-------------------------------+-----------------+-------------------+-------------------+\n",
      "|stop_id                        |stop_name        |heure_arrivee      |heure_depart       |\n",
      "+-------------------------------+-----------------+-------------------+-------------------+\n",
      "|StopPoint:OCETrain TER-87174276|Vitry-le-François|2025-05-22 05:47:00|2025-05-22 05:50:00|\n",
      "|StopPoint:OCETrain TER-87174276|Vitry-le-François|2025-05-22 05:47:00|2025-05-22 05:50:00|\n",
      "|StopPoint:OCETrain TER-87174276|Vitry-le-François|2025-05-22 05:47:00|2025-05-22 05:50:00|\n",
      "|StopPoint:OCETrain TER-87175042|Bar-le-Duc       |2025-05-22 05:00:00|2025-05-22 05:02:00|\n",
      "|StopPoint:OCETrain TER-87212027|Strasbourg-Ville |null               |2025-05-22 02:37:00|\n",
      "|StopPoint:OCETrain TER-87212027|Strasbourg-Ville |null               |2025-05-22 02:37:00|\n",
      "|StopPoint:OCETrain TER-87212027|Strasbourg-Ville |null               |2025-05-22 02:37:00|\n",
      "|StopPoint:OCETrain TER-87212027|Strasbourg-Ville |null               |2025-05-22 02:37:00|\n",
      "|StopPoint:OCETrain TER-87212027|Strasbourg-Ville |null               |2025-05-22 02:37:00|\n",
      "|StopPoint:OCETrain TER-87212225|Saverne          |2025-05-22 02:59:00|2025-05-22 03:00:00|\n",
      "+-------------------------------+-----------------+-------------------+-------------------+\n",
      "only showing top 10 rows\n",
      "\n"
     ]
    }
   ],
   "source": [
    "# 1. Import des bibliothèques\n",
    "from pyspark.sql import SparkSession\n",
    "from pyspark.sql.functions import col, from_unixtime, regexp_extract\n",
    "import pandas as pd\n",
    "\n",
    "# 2. Initialisation de SparkSession\n",
    "spark = SparkSession.builder \\\n",
    "    .appName(\"Enrichissement des noms de gares\") \\\n",
    "    .getOrCreate()\n",
    "\n",
    "# 3. Chargement du fichier Delta contenant les données de trafic\n",
    "chemin_delta = \"/home/jovyan/work/data/delta_sncf\"\n",
    "df_trafic = spark.read.format(\"delta\").load(chemin_delta)\n",
    "\n",
    "# 4. Ajout des colonnes lisibles pour les horaires\n",
    "df_trafic = df_trafic \\\n",
    "    .withColumn(\"heure_arrivee\", from_unixtime(col(\"arrival\"))) \\\n",
    "    .withColumn(\"heure_depart\", from_unixtime(col(\"departure\")))\n",
    "\n",
    "# 5. Extraction du code UIC depuis stop_id\n",
    "df_trafic = df_trafic.withColumn(\"uic_code\", regexp_extract(\"stop_id\", r\"(\\d{8})\", 1))\n",
    "\n",
    "# 6. Chargement des données Kaggle sur les gares\n",
    "df_gares = pd.read_csv(\"/home/jovyan/work/data/gares_kaggle.csv\")\n",
    "\n",
    "# 7. Nettoyage des codes UIC (complétés à 8 chiffres)\n",
    "df_gares[\"Code UIC\"] = df_gares[\"Code UIC\"].astype(\"Int64\").astype(str).str.zfill(8)\n",
    "\n",
    "# 8. Sélection et renommage des colonnes utiles\n",
    "df_gares_spark = spark.createDataFrame(\n",
    "    df_gares[[\"Code UIC\", \"Libellé Gare\"]].rename(\n",
    "        columns={\"Code UIC\": \"uic_code\", \"Libellé Gare\": \"stop_name\"}\n",
    "    )\n",
    ")\n",
    "\n",
    "# 9. Jointure entre les données trafic et les noms de gares\n",
    "df_trafic = df_trafic.join(df_gares_spark, on=\"uic_code\", how=\"left\")\n",
    "\n",
    "# 10. Aperçu du résultat enrichi\n",
    "df_trafic.select(\"stop_id\", \"stop_name\", \"heure_arrivee\", \"heure_depart\").show(10, truncate=False)\n",
    "\n",
    "# 11. Export du résultat pour Power BI (si besoin)\n",
    "df_trafic.write.mode(\"overwrite\").option(\"header\", True).csv(\"/home/jovyan/work/export_powerbi/trafic_enrichi\")\n"
   ]
  }
 ],
 "metadata": {
  "kernelspec": {
   "display_name": "Python 3 (ipykernel)",
   "language": "python",
   "name": "python3"
  },
  "language_info": {
   "codemirror_mode": {
    "name": "ipython",
    "version": 3
   },
   "file_extension": ".py",
   "mimetype": "text/x-python",
   "name": "python",
   "nbconvert_exporter": "python",
   "pygments_lexer": "ipython3",
   "version": "3.11.5"
  }
 },
 "nbformat": 4,
 "nbformat_minor": 5
}
