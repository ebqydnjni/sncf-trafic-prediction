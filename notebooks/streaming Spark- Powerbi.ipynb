{
 "cells": [
  {
   "cell_type": "code",
   "execution_count": 1,
   "id": "ebea7b2f-b742-406d-97a8-9a050a8540f8",
   "metadata": {},
   "outputs": [
    {
     "ename": "AttributeError",
     "evalue": "'NoneType' object has no attribute 'replace'",
     "output_type": "error",
     "traceback": [
      "\u001b[0;31m---------------------------------------------------------------------------\u001b[0m",
      "\u001b[0;31mAttributeError\u001b[0m                            Traceback (most recent call last)",
      "Cell \u001b[0;32mIn[1], line 54\u001b[0m\n\u001b[1;32m     50\u001b[0m df_sample \u001b[38;5;241m=\u001b[39m df_trafic\u001b[38;5;241m.\u001b[39mselect(colonnes)\u001b[38;5;241m.\u001b[39mlimit(\u001b[38;5;241m20\u001b[39m)\u001b[38;5;241m.\u001b[39mtoPandas()\n\u001b[1;32m     52\u001b[0m \u001b[38;5;28;01mfor\u001b[39;00m index, ligne \u001b[38;5;129;01min\u001b[39;00m df_sample\u001b[38;5;241m.\u001b[39miterrows():\n\u001b[1;32m     53\u001b[0m     \u001b[38;5;66;03m# Nettoyage des colonnes datetime\u001b[39;00m\n\u001b[0;32m---> 54\u001b[0m     ligne[\u001b[38;5;124m\"\u001b[39m\u001b[38;5;124mheure_arrivee\u001b[39m\u001b[38;5;124m\"\u001b[39m] \u001b[38;5;241m=\u001b[39m \u001b[43mligne\u001b[49m\u001b[43m[\u001b[49m\u001b[38;5;124;43m\"\u001b[39;49m\u001b[38;5;124;43mheure_arrivee\u001b[39;49m\u001b[38;5;124;43m\"\u001b[39;49m\u001b[43m]\u001b[49m\u001b[38;5;241;43m.\u001b[39;49m\u001b[43mreplace\u001b[49m(\u001b[38;5;124m\"\u001b[39m\u001b[38;5;124m \u001b[39m\u001b[38;5;124m\"\u001b[39m, \u001b[38;5;124m\"\u001b[39m\u001b[38;5;124mT\u001b[39m\u001b[38;5;124m\"\u001b[39m) \u001b[38;5;241m+\u001b[39m \u001b[38;5;124m\"\u001b[39m\u001b[38;5;124m.000Z\u001b[39m\u001b[38;5;124m\"\u001b[39m\n\u001b[1;32m     55\u001b[0m     ligne[\u001b[38;5;124m\"\u001b[39m\u001b[38;5;124mheure_depart\u001b[39m\u001b[38;5;124m\"\u001b[39m] \u001b[38;5;241m=\u001b[39m ligne[\u001b[38;5;124m\"\u001b[39m\u001b[38;5;124mheure_depart\u001b[39m\u001b[38;5;124m\"\u001b[39m]\u001b[38;5;241m.\u001b[39mreplace(\u001b[38;5;124m\"\u001b[39m\u001b[38;5;124m \u001b[39m\u001b[38;5;124m\"\u001b[39m, \u001b[38;5;124m\"\u001b[39m\u001b[38;5;124mT\u001b[39m\u001b[38;5;124m\"\u001b[39m) \u001b[38;5;241m+\u001b[39m \u001b[38;5;124m\"\u001b[39m\u001b[38;5;124m.000Z\u001b[39m\u001b[38;5;124m\"\u001b[39m\n\u001b[1;32m     56\u001b[0m     envoyer_ligne_powerbi(ligne\u001b[38;5;241m.\u001b[39mto_dict())\n",
      "\u001b[0;31mAttributeError\u001b[0m: 'NoneType' object has no attribute 'replace'"
     ]
    }
   ],
   "source": [
    "# STREAMING SPARK VERS POWER BI (SCRIPT FINAL)\n",
    "\n",
    "from pyspark.sql import SparkSession\n",
    "from pyspark.sql.functions import from_unixtime, col, regexp_extract, to_json, struct\n",
    "import requests\n",
    "import time\n",
    "\n",
    "# 1. Initialisation de la session Spark avec Delta\n",
    "spark = SparkSession.builder \\\n",
    "    .appName(\"Streaming SNCF vers Power BI\") \\\n",
    "    .config(\"spark.sql.extensions\", \"io.delta.sql.DeltaSparkSessionExtension\") \\\n",
    "    .config(\"spark.sql.catalog.spark_catalog\", \"org.apache.spark.sql.delta.catalog.DeltaCatalog\") \\\n",
    "    .getOrCreate()\n",
    "\n",
    "# 2. Chargement des données enrichies depuis Delta Lake\n",
    "chemin_delta = \"/home/jovyan/work/data/delta_sncf_enriched\"\n",
    "df_trafic = spark.read.format(\"delta\").load(chemin_delta)\n",
    "\n",
    "# 3. Nettoyage et transformation\n",
    "\n",
    "df_trafic = df_trafic \\\n",
    "    .withColumn(\"heure_arrivee\", from_unixtime(col(\"arrival\"))) \\\n",
    "    .withColumn(\"heure_depart\", from_unixtime(col(\"departure\")))\n",
    "\n",
    "# 4. Préparation des données à envoyer à Power BI\n",
    "colonnes = [\n",
    "    \"stop_id\",\n",
    "    \"stop_name\",\n",
    "    \"trip_id\",\n",
    "    \"start_date\",\n",
    "    \"arrival\",\n",
    "    \"departure\",\n",
    "    \"heure_arrivee\",\n",
    "    \"heure_depart\"\n",
    "]\n",
    "\n",
    "# 5. Fonction d'envoi à Power BI\n",
    "url_powerbi = \"https://api.powerbi.com/beta/78613bf0-3424-4615-9325-8f6a7d76a04a/datasets/9e42dacb-5d36-4f40-a2b8-c01f63adc78c/rows?experience=fabric-developer&key=lwBq0dtI5wk9DxsFW9fl%2BSv9LVSit9oTMnNFpeqAZ4LhF1CH00iEUBgtaWSXEIiUxQe3CKfZxb3k3LgZWIuVdA%3D%3D\"\n",
    "\n",
    "def envoyer_ligne_powerbi(dictionnaire):\n",
    "    headers = {\"Content-Type\": \"application/json\"}\n",
    "    response = requests.post(url_powerbi, headers=headers, json=[dictionnaire])\n",
    "    if response.status_code == 200:\n",
    "        print(\"✔ Ligne envoyée avec succès\")\n",
    "    else:\n",
    "        print(\"❌ Erreur:\", response.status_code, response.text)\n",
    "\n",
    "# 6. Simulation de streaming ligne par ligne\n",
    "\n",
    "df_sample = df_trafic.select(colonnes).limit(20).toPandas()\n",
    "\n",
    "for index, ligne in df_sample.iterrows():\n",
    "    # Nettoyage des colonnes datetime\n",
    "    ligne[\"heure_arrivee\"] = ligne[\"heure_arrivee\"].replace(\" \", \"T\") + \".000Z\"\n",
    "    ligne[\"heure_depart\"] = ligne[\"heure_depart\"].replace(\" \", \"T\") + \".000Z\"\n",
    "    envoyer_ligne_powerbi(ligne.to_dict())\n",
    "    time.sleep(2)  # Délai simulé entre les lignes\n"
   ]
  }
 ],
 "metadata": {
  "kernelspec": {
   "display_name": "Python 3 (ipykernel)",
   "language": "python",
   "name": "python3"
  },
  "language_info": {
   "codemirror_mode": {
    "name": "ipython",
    "version": 3
   },
   "file_extension": ".py",
   "mimetype": "text/x-python",
   "name": "python",
   "nbconvert_exporter": "python",
   "pygments_lexer": "ipython3",
   "version": "3.11.6"
  }
 },
 "nbformat": 4,
 "nbformat_minor": 5
}
